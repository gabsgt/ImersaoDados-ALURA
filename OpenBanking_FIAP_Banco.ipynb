{
  "nbformat": 4,
  "nbformat_minor": 0,
  "metadata": {
    "colab": {
      "name": "OpenBanking_FIAP_Banco.ipynb",
      "provenance": [],
      "authorship_tag": "ABX9TyOi/8yGfiq0vgwHTFnGClnd",
      "include_colab_link": true
    },
    "kernelspec": {
      "name": "python3",
      "display_name": "Python 3"
    },
    "language_info": {
      "name": "python"
    }
  },
  "cells": [
    {
      "cell_type": "markdown",
      "metadata": {
        "id": "view-in-github",
        "colab_type": "text"
      },
      "source": [
        "<a href=\"https://colab.research.google.com/github/gabsgt/ImersaoDados-ALURA/blob/main/OpenBanking_FIAP_Banco.ipynb\" target=\"_parent\"><img src=\"https://colab.research.google.com/assets/colab-badge.svg\" alt=\"Open In Colab\"/></a>"
      ]
    },
    {
      "cell_type": "code",
      "metadata": {
        "colab": {
          "base_uri": "https://localhost:8080/",
          "height": 238
        },
        "id": "4vxStpy0H1gg",
        "outputId": "3f58385d-89e1-4632-e0a2-ee65abe75e1b"
      },
      "source": [
        "import pandas as pd\n",
        "url_dados_trans = 'https://query.data.world/s/kmehdy3hnaskyi63mdp4enx4ymf6ag'\n",
        "trans = pd.read_csv(url_dados_trans, sep=';')\n",
        "trans.head()"
      ],
      "execution_count": 7,
      "outputs": [
        {
          "output_type": "stream",
          "text": [
            "/usr/local/lib/python3.7/dist-packages/IPython/core/interactiveshell.py:2718: DtypeWarning: Columns (8) have mixed types.Specify dtype option on import or set low_memory=False.\n",
            "  interactivity=interactivity, compiler=compiler, result=result)\n"
          ],
          "name": "stderr"
        },
        {
          "output_type": "execute_result",
          "data": {
            "text/html": [
              "<div>\n",
              "<style scoped>\n",
              "    .dataframe tbody tr th:only-of-type {\n",
              "        vertical-align: middle;\n",
              "    }\n",
              "\n",
              "    .dataframe tbody tr th {\n",
              "        vertical-align: top;\n",
              "    }\n",
              "\n",
              "    .dataframe thead th {\n",
              "        text-align: right;\n",
              "    }\n",
              "</style>\n",
              "<table border=\"1\" class=\"dataframe\">\n",
              "  <thead>\n",
              "    <tr style=\"text-align: right;\">\n",
              "      <th></th>\n",
              "      <th>trans_id</th>\n",
              "      <th>account_id</th>\n",
              "      <th>date</th>\n",
              "      <th>type</th>\n",
              "      <th>operation</th>\n",
              "      <th>amount</th>\n",
              "      <th>balance</th>\n",
              "      <th>k_symbol</th>\n",
              "      <th>bank</th>\n",
              "      <th>account</th>\n",
              "    </tr>\n",
              "  </thead>\n",
              "  <tbody>\n",
              "    <tr>\n",
              "      <th>0</th>\n",
              "      <td>695247</td>\n",
              "      <td>2378</td>\n",
              "      <td>930101</td>\n",
              "      <td>PRIJEM</td>\n",
              "      <td>VKLAD</td>\n",
              "      <td>700.0</td>\n",
              "      <td>700.0</td>\n",
              "      <td>NaN</td>\n",
              "      <td>NaN</td>\n",
              "      <td>NaN</td>\n",
              "    </tr>\n",
              "    <tr>\n",
              "      <th>1</th>\n",
              "      <td>171812</td>\n",
              "      <td>576</td>\n",
              "      <td>930101</td>\n",
              "      <td>PRIJEM</td>\n",
              "      <td>VKLAD</td>\n",
              "      <td>900.0</td>\n",
              "      <td>900.0</td>\n",
              "      <td>NaN</td>\n",
              "      <td>NaN</td>\n",
              "      <td>NaN</td>\n",
              "    </tr>\n",
              "    <tr>\n",
              "      <th>2</th>\n",
              "      <td>207264</td>\n",
              "      <td>704</td>\n",
              "      <td>930101</td>\n",
              "      <td>PRIJEM</td>\n",
              "      <td>VKLAD</td>\n",
              "      <td>1000.0</td>\n",
              "      <td>1000.0</td>\n",
              "      <td>NaN</td>\n",
              "      <td>NaN</td>\n",
              "      <td>NaN</td>\n",
              "    </tr>\n",
              "    <tr>\n",
              "      <th>3</th>\n",
              "      <td>1117247</td>\n",
              "      <td>3818</td>\n",
              "      <td>930101</td>\n",
              "      <td>PRIJEM</td>\n",
              "      <td>VKLAD</td>\n",
              "      <td>600.0</td>\n",
              "      <td>600.0</td>\n",
              "      <td>NaN</td>\n",
              "      <td>NaN</td>\n",
              "      <td>NaN</td>\n",
              "    </tr>\n",
              "    <tr>\n",
              "      <th>4</th>\n",
              "      <td>579373</td>\n",
              "      <td>1972</td>\n",
              "      <td>930102</td>\n",
              "      <td>PRIJEM</td>\n",
              "      <td>VKLAD</td>\n",
              "      <td>400.0</td>\n",
              "      <td>400.0</td>\n",
              "      <td>NaN</td>\n",
              "      <td>NaN</td>\n",
              "      <td>NaN</td>\n",
              "    </tr>\n",
              "  </tbody>\n",
              "</table>\n",
              "</div>"
            ],
            "text/plain": [
              "   trans_id  account_id    date    type  ... balance  k_symbol  bank account\n",
              "0    695247        2378  930101  PRIJEM  ...   700.0       NaN   NaN     NaN\n",
              "1    171812         576  930101  PRIJEM  ...   900.0       NaN   NaN     NaN\n",
              "2    207264         704  930101  PRIJEM  ...  1000.0       NaN   NaN     NaN\n",
              "3   1117247        3818  930101  PRIJEM  ...   600.0       NaN   NaN     NaN\n",
              "4    579373        1972  930102  PRIJEM  ...   400.0       NaN   NaN     NaN\n",
              "\n",
              "[5 rows x 10 columns]"
            ]
          },
          "metadata": {
            "tags": []
          },
          "execution_count": 7
        }
      ]
    },
    {
      "cell_type": "code",
      "metadata": {
        "colab": {
          "base_uri": "https://localhost:8080/"
        },
        "id": "f_-8KXYHbQsb",
        "outputId": "c1aa149d-dc05-4b99-bd22-d9c62f2a5dc7"
      },
      "source": [
        "trans['type'].value_counts()\n",
        "#+/- transaction: \"PRIJEM\" stands for credit \"VYDAJ\" stands for withdrawal"
      ],
      "execution_count": 13,
      "outputs": [
        {
          "output_type": "execute_result",
          "data": {
            "text/plain": [
              "VYDAJ     634571\n",
              "PRIJEM    405083\n",
              "VYBER      16666\n",
              "Name: type, dtype: int64"
            ]
          },
          "metadata": {
            "tags": []
          },
          "execution_count": 13
        }
      ]
    },
    {
      "cell_type": "code",
      "metadata": {
        "colab": {
          "base_uri": "https://localhost:8080/"
        },
        "id": "K-oU47Ddb7Jd",
        "outputId": "94331d4c-5413-4fd7-9dfc-9cfcd2943cd8"
      },
      "source": [
        "trans['operation'].value_counts() \n",
        "#mode of transaction: \"VYBER KARTOU\" credit card withdrawal \n",
        "#\"VKLAD\" credit in cash \n",
        "#\"PREVOD Z UCTU\" collection from another bank \n",
        "#\"VYBER\" withdrawal in cash \n",
        "#\"PREVOD NA UCET\" remittance to another bank"
      ],
      "execution_count": 14,
      "outputs": [
        {
          "output_type": "execute_result",
          "data": {
            "text/plain": [
              "VYBER             434918\n",
              "PREVOD NA UCET    208283\n",
              "VKLAD             156743\n",
              "PREVOD Z UCTU      65226\n",
              "VYBER KARTOU        8036\n",
              "Name: operation, dtype: int64"
            ]
          },
          "metadata": {
            "tags": []
          },
          "execution_count": 14
        }
      ]
    },
    {
      "cell_type": "code",
      "metadata": {
        "colab": {
          "base_uri": "https://localhost:8080/"
        },
        "id": "wxIx3YJDb-iM",
        "outputId": "7f339310-7cd3-46d9-a8c6-942d31a97127"
      },
      "source": [
        "trans['k_symbol'].value_counts()\n",
        "# \"POJISTNE\" insurance payment \n",
        "#\"SLUZBY\" payment for statement \n",
        "#\"UROK\" interest credited \n",
        "#\"SANKC. UROK\" sanction interest if negative balance \n",
        "#\"SIPO\" household \n",
        "#\"DUCHOD\" old-age pension \n",
        "#\"UVER\" loan payment"
      ],
      "execution_count": 24,
      "outputs": [
        {
          "output_type": "execute_result",
          "data": {
            "text/plain": [
              "UROK           183114\n",
              "SLUZBY         155832\n",
              "SIPO           118065\n",
              "                53433\n",
              "DUCHOD          30338\n",
              "POJISTNE        18500\n",
              "UVER            13580\n",
              "SANKC. UROK      1577\n",
              "Name: k_symbol, dtype: int64"
            ]
          },
          "metadata": {
            "tags": []
          },
          "execution_count": 24
        }
      ]
    },
    {
      "cell_type": "code",
      "metadata": {
        "colab": {
          "base_uri": "https://localhost:8080/"
        },
        "id": "2TaZbGsTcCiG",
        "outputId": "1f5931f0-bcab-49a8-e09d-b8bf0c436fe7"
      },
      "source": [
        "trans['bank'].value_counts(normalize=True)"
      ],
      "execution_count": 18,
      "outputs": [
        {
          "output_type": "execute_result",
          "data": {
            "text/plain": [
              "QR    0.081478\n",
              "AB    0.079413\n",
              "ST    0.079380\n",
              "YZ    0.078908\n",
              "GH    0.078605\n",
              "EF    0.077851\n",
              "KL    0.077636\n",
              "UV    0.077391\n",
              "OP    0.077124\n",
              "IJ    0.075044\n",
              "WX    0.073775\n",
              "MN    0.071746\n",
              "CD    0.071651\n",
              "Name: bank, dtype: float64"
            ]
          },
          "metadata": {
            "tags": []
          },
          "execution_count": 18
        }
      ]
    },
    {
      "cell_type": "code",
      "metadata": {
        "colab": {
          "base_uri": "https://localhost:8080/"
        },
        "id": "kzVvOxYEcMq8",
        "outputId": "218d8f51-1c02-408a-9af9-d22f0b5615fe"
      },
      "source": [
        "trans['account'].describe()"
      ],
      "execution_count": 23,
      "outputs": [
        {
          "output_type": "execute_result",
          "data": {
            "text/plain": [
              "count    2.953890e+05\n",
              "mean     4.567092e+07\n",
              "std      3.066340e+07\n",
              "min      0.000000e+00\n",
              "25%      1.782858e+07\n",
              "50%      4.575095e+07\n",
              "75%      7.201341e+07\n",
              "max      9.999420e+07\n",
              "Name: account, dtype: float64"
            ]
          },
          "metadata": {
            "tags": []
          },
          "execution_count": 23
        }
      ]
    },
    {
      "cell_type": "code",
      "metadata": {
        "id": "vlY-zwFXIMYC",
        "colab": {
          "base_uri": "https://localhost:8080/",
          "height": 204
        },
        "outputId": "60e4ffad-4723-4ff8-9890-a2dbd855dedc"
      },
      "source": [
        "url_dados_accounts = 'https://query.data.world/s/prkqbafvvcownueakq4uckhh2zyu6f'\n",
        "accounts = pd.read_csv(url_dados_accounts,sep=';')\n",
        "accounts.head()"
      ],
      "execution_count": 8,
      "outputs": [
        {
          "output_type": "execute_result",
          "data": {
            "text/html": [
              "<div>\n",
              "<style scoped>\n",
              "    .dataframe tbody tr th:only-of-type {\n",
              "        vertical-align: middle;\n",
              "    }\n",
              "\n",
              "    .dataframe tbody tr th {\n",
              "        vertical-align: top;\n",
              "    }\n",
              "\n",
              "    .dataframe thead th {\n",
              "        text-align: right;\n",
              "    }\n",
              "</style>\n",
              "<table border=\"1\" class=\"dataframe\">\n",
              "  <thead>\n",
              "    <tr style=\"text-align: right;\">\n",
              "      <th></th>\n",
              "      <th>account_id</th>\n",
              "      <th>district_id</th>\n",
              "      <th>frequency</th>\n",
              "      <th>date</th>\n",
              "    </tr>\n",
              "  </thead>\n",
              "  <tbody>\n",
              "    <tr>\n",
              "      <th>0</th>\n",
              "      <td>576</td>\n",
              "      <td>55</td>\n",
              "      <td>POPLATEK MESICNE</td>\n",
              "      <td>930101</td>\n",
              "    </tr>\n",
              "    <tr>\n",
              "      <th>1</th>\n",
              "      <td>3818</td>\n",
              "      <td>74</td>\n",
              "      <td>POPLATEK MESICNE</td>\n",
              "      <td>930101</td>\n",
              "    </tr>\n",
              "    <tr>\n",
              "      <th>2</th>\n",
              "      <td>704</td>\n",
              "      <td>55</td>\n",
              "      <td>POPLATEK MESICNE</td>\n",
              "      <td>930101</td>\n",
              "    </tr>\n",
              "    <tr>\n",
              "      <th>3</th>\n",
              "      <td>2378</td>\n",
              "      <td>16</td>\n",
              "      <td>POPLATEK MESICNE</td>\n",
              "      <td>930101</td>\n",
              "    </tr>\n",
              "    <tr>\n",
              "      <th>4</th>\n",
              "      <td>2632</td>\n",
              "      <td>24</td>\n",
              "      <td>POPLATEK MESICNE</td>\n",
              "      <td>930102</td>\n",
              "    </tr>\n",
              "  </tbody>\n",
              "</table>\n",
              "</div>"
            ],
            "text/plain": [
              "   account_id  district_id         frequency    date\n",
              "0         576           55  POPLATEK MESICNE  930101\n",
              "1        3818           74  POPLATEK MESICNE  930101\n",
              "2         704           55  POPLATEK MESICNE  930101\n",
              "3        2378           16  POPLATEK MESICNE  930101\n",
              "4        2632           24  POPLATEK MESICNE  930102"
            ]
          },
          "metadata": {
            "tags": []
          },
          "execution_count": 8
        }
      ]
    },
    {
      "cell_type": "code",
      "metadata": {
        "id": "x3NLhUotavNy"
      },
      "source": [
        ""
      ],
      "execution_count": null,
      "outputs": []
    }
  ]
}